{
 "cells": [
  {
   "cell_type": "code",
   "execution_count": 3,
   "id": "fef0d462",
   "metadata": {},
   "outputs": [
    {
     "name": "stdout",
     "output_type": "stream",
     "text": [
      "   student id student name\n",
      "0      2345.0        akash\n",
      "1      5678.0         asha\n",
      "2      9876.0      bhavana\n",
      "3      4567.0        vidya\n",
      "4         NaN        vinay\n"
     ]
    }
   ],
   "source": [
    "import pandas as pd\n",
    "import numpy as np\n",
    "student=pd.read_csv(\"C:\\\\Users\\\\GPT BANTWAL\\\\Documents\\\\stundent.csv\")\n",
    "print(student)\n"
   ]
  },
  {
   "cell_type": "code",
   "execution_count": 6,
   "id": "6a2ff1be",
   "metadata": {},
   "outputs": [
    {
     "name": "stdout",
     "output_type": "stream",
     "text": [
      "   student id  m1  m2  m3\n",
      "0        2345  40  66  33\n",
      "1        5678  60  15  20\n",
      "2        9876  80  77  69\n",
      "3        4567  90  23  85\n"
     ]
    }
   ],
   "source": [
    "mark=pd.read_csv(\"C:\\\\Users\\\\GPT BANTWAL\\\\Documents\\\\mark.csv\")\n",
    "print(mark)"
   ]
  },
  {
   "cell_type": "code",
   "execution_count": 7,
   "id": "58e6b06e",
   "metadata": {},
   "outputs": [
    {
     "data": {
      "text/html": [
       "<div>\n",
       "<style scoped>\n",
       "    .dataframe tbody tr th:only-of-type {\n",
       "        vertical-align: middle;\n",
       "    }\n",
       "\n",
       "    .dataframe tbody tr th {\n",
       "        vertical-align: top;\n",
       "    }\n",
       "\n",
       "    .dataframe thead th {\n",
       "        text-align: right;\n",
       "    }\n",
       "</style>\n",
       "<table border=\"1\" class=\"dataframe\">\n",
       "  <thead>\n",
       "    <tr style=\"text-align: right;\">\n",
       "      <th></th>\n",
       "      <th>student id</th>\n",
       "      <th>student name</th>\n",
       "      <th>m1</th>\n",
       "      <th>m2</th>\n",
       "      <th>m3</th>\n",
       "    </tr>\n",
       "  </thead>\n",
       "  <tbody>\n",
       "    <tr>\n",
       "      <th>0</th>\n",
       "      <td>2345.0</td>\n",
       "      <td>akash</td>\n",
       "      <td>40</td>\n",
       "      <td>66</td>\n",
       "      <td>33</td>\n",
       "    </tr>\n",
       "    <tr>\n",
       "      <th>1</th>\n",
       "      <td>5678.0</td>\n",
       "      <td>asha</td>\n",
       "      <td>60</td>\n",
       "      <td>15</td>\n",
       "      <td>20</td>\n",
       "    </tr>\n",
       "    <tr>\n",
       "      <th>2</th>\n",
       "      <td>9876.0</td>\n",
       "      <td>bhavana</td>\n",
       "      <td>80</td>\n",
       "      <td>77</td>\n",
       "      <td>69</td>\n",
       "    </tr>\n",
       "    <tr>\n",
       "      <th>3</th>\n",
       "      <td>4567.0</td>\n",
       "      <td>vidya</td>\n",
       "      <td>90</td>\n",
       "      <td>23</td>\n",
       "      <td>85</td>\n",
       "    </tr>\n",
       "  </tbody>\n",
       "</table>\n",
       "</div>"
      ],
      "text/plain": [
       "   student id student name  m1  m2  m3\n",
       "0      2345.0        akash  40  66  33\n",
       "1      5678.0         asha  60  15  20\n",
       "2      9876.0      bhavana  80  77  69\n",
       "3      4567.0        vidya  90  23  85"
      ]
     },
     "execution_count": 7,
     "metadata": {},
     "output_type": "execute_result"
    }
   ],
   "source": [
    "df_merge=pd.merge(student,mark,on='student id')\n",
    "df_merge"
   ]
  },
  {
   "cell_type": "code",
   "execution_count": null,
   "id": "bf1dab8f",
   "metadata": {},
   "outputs": [],
   "source": []
  }
 ],
 "metadata": {
  "kernelspec": {
   "display_name": "Python 3 (ipykernel)",
   "language": "python",
   "name": "python3"
  },
  "language_info": {
   "codemirror_mode": {
    "name": "ipython",
    "version": 3
   },
   "file_extension": ".py",
   "mimetype": "text/x-python",
   "name": "python",
   "nbconvert_exporter": "python",
   "pygments_lexer": "ipython3",
   "version": "3.11.4"
  }
 },
 "nbformat": 4,
 "nbformat_minor": 5
}
