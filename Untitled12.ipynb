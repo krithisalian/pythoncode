{
 "cells": [
  {
   "cell_type": "code",
   "execution_count": 2,
   "id": "8e826970",
   "metadata": {},
   "outputs": [],
   "source": [
    "import matplotlib.pyplot as plt"
   ]
  },
  {
   "cell_type": "code",
   "execution_count": 3,
   "id": "61b4fa8a",
   "metadata": {},
   "outputs": [],
   "source": [
    "activities=['eat','sleep','work','play']"
   ]
  },
  {
   "cell_type": "code",
   "execution_count": 4,
   "id": "77ef818f",
   "metadata": {},
   "outputs": [],
   "source": [
    "slices=[3,7,8,6]\n"
   ]
  },
  {
   "cell_type": "code",
   "execution_count": 5,
   "id": "2565b2c6",
   "metadata": {},
   "outputs": [],
   "source": [
    "colors=['r','y','g','b']"
   ]
  },
  {
   "cell_type": "code",
   "execution_count": 8,
   "id": "ab2415da",
   "metadata": {},
   "outputs": [
    {
     "ename": "NameError",
     "evalue": "name 'plt_pie' is not defined",
     "output_type": "error",
     "traceback": [
      "\u001b[1;31m---------------------------------------------------------------------------\u001b[0m",
      "\u001b[1;31mNameError\u001b[0m                                 Traceback (most recent call last)",
      "Cell \u001b[1;32mIn[8], line 1\u001b[0m\n\u001b[1;32m----> 1\u001b[0m plt_pie(slices,labels\u001b[38;5;241m=\u001b[39mactivities,colors\u001b[38;5;241m=\u001b[39mcolors,startangle\u001b[38;5;241m=\u001b[39m\u001b[38;5;241m90\u001b[39m,shadow\u001b[38;5;241m=\u001b[39m\u001b[38;5;28;01mTrue\u001b[39;00m,explode\u001b[38;5;241m=\u001b[39m(\u001b[38;5;241m0\u001b[39m,\u001b[38;5;241m0\u001b[39m,\u001b[38;5;241m0.1\u001b[39m),radius\u001b[38;5;241m=\u001b[39m\u001b[38;5;241m1.2\u001b[39m,autopet\u001b[38;5;241m=\u001b[39m\u001b[38;5;124m'\u001b[39m\u001b[38;5;132;01m% 1.1f\u001b[39;00m\u001b[38;5;132;01m%%\u001b[39;00m\u001b[38;5;124m'\u001b[39m)\n",
      "\u001b[1;31mNameError\u001b[0m: name 'plt_pie' is not defined"
     ]
    }
   ],
   "source": [
    "plt.pie(slices,labels=activities,colors=colors,startangle=90,shadow=False,explode=(0,0,0.1,0),radius=1.2,autopct='% 1.1f%%')"
   ]
  },
  {
   "cell_type": "code",
   "execution_count": null,
   "id": "e3189544",
   "metadata": {},
   "outputs": [],
   "source": []
  }
 ],
 "metadata": {
  "kernelspec": {
   "display_name": "Python 3 (ipykernel)",
   "language": "python",
   "name": "python3"
  },
  "language_info": {
   "codemirror_mode": {
    "name": "ipython",
    "version": 3
   },
   "file_extension": ".py",
   "mimetype": "text/x-python",
   "name": "python",
   "nbconvert_exporter": "python",
   "pygments_lexer": "ipython3",
   "version": "3.11.4"
  }
 },
 "nbformat": 4,
 "nbformat_minor": 5
}
