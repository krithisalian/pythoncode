{
 "cells": [
  {
   "cell_type": "markdown",
   "id": "85021382",
   "metadata": {},
   "source": [
    "# create new columns in pandas dataframe\n",
    "import pandas as pd\n",
    "df=pd.DataFrame({'Date':['10/2/2011','11/7/1996','22/04/2004','6/10/2003'],\n",
    "                'event':['music','poetry','theater','comedy'],\n",
    "                'cost':[100,5000,15000,2000]})\n",
    "print(df)\n"
   ]
  },
  {
   "cell_type": "code",
   "execution_count": null,
   "id": "368de385",
   "metadata": {},
   "outputs": [],
   "source": [
    "# using apply\n",
    "df['discount_price']=df.apply(lambda a: a.cost - (a.cost * 0.1),axis=1)\n",
    "print(df)"
   ]
  },
  {
   "cell_type": "code",
   "execution_count": null,
   "id": "d5f9dfc1",
   "metadata": {},
   "outputs": [],
   "source": []
  },
  {
   "cell_type": "code",
   "execution_count": null,
   "id": "27ab6ccc",
   "metadata": {},
   "outputs": [],
   "source": []
  },
  {
   "cell_type": "code",
   "execution_count": null,
   "id": "c8584bef",
   "metadata": {},
   "outputs": [],
   "source": []
  },
  {
   "cell_type": "code",
   "execution_count": null,
   "id": "d2ed91f3",
   "metadata": {},
   "outputs": [],
   "source": []
  }
 ],
 "metadata": {
  "kernelspec": {
   "display_name": "Python 3 (ipykernel)",
   "language": "python",
   "name": "python3"
  },
  "language_info": {
   "codemirror_mode": {
    "name": "ipython",
    "version": 3
   },
   "file_extension": ".py",
   "mimetype": "text/x-python",
   "name": "python",
   "nbconvert_exporter": "python",
   "pygments_lexer": "ipython3",
   "version": "3.11.4"
  }
 },
 "nbformat": 4,
 "nbformat_minor": 5
}
