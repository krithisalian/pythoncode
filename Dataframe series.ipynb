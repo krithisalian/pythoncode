{
 "cells": [
  {
   "cell_type": "code",
   "execution_count": 2,
   "id": "bc1b9591",
   "metadata": {},
   "outputs": [
    {
     "name": "stdout",
     "output_type": "stream",
     "text": [
      "  empno   Ename qualification subject\n",
      "0   101    rama            BE      cs\n",
      "1   102   bhima       Diploma      me\n",
      "2   103  mahesh        M.tech      ec\n",
      "3   104  lokesh           Bsc      at\n",
      "4   105  praksh           Msc      ce\n"
     ]
    }
   ],
   "source": [
    "import pandas as pd\n",
    "data={\n",
    "'empno':['101','102','103','104','105'],\n",
    "'Ename':['rama','bhima','mahesh','lokesh','praksh'],\n",
    "'qualification':['BE','Diploma','M.tech','Bsc','Msc'],\n",
    "'subject':['cs','me','ec','at','ce']\n",
    "}\n",
    "df=pd.DataFrame(data)\n",
    "print(df)\n"
   ]
  },
  {
   "cell_type": "code",
   "execution_count": 7,
   "id": "33f25fe1",
   "metadata": {},
   "outputs": [
    {
     "name": "stdout",
     "output_type": "stream",
     "text": [
      "0    101\n",
      "1    102\n",
      "2    103\n",
      "3    104\n",
      "4    105\n",
      "Name: empno, dtype: object\n",
      "  empno   Ename\n",
      "0   101    rama\n",
      "1   102   bhima\n",
      "2   103  mahesh\n",
      "3   104  lokesh\n",
      "4   105  praksh\n"
     ]
    }
   ],
   "source": [
    "# accesing colum in dataframe\n",
    "print(df['empno'])\n",
    "\n",
    "print(df[['empno','Ename']])"
   ]
  },
  {
   "cell_type": "code",
   "execution_count": 10,
   "id": "25ce7611",
   "metadata": {},
   "outputs": [
    {
     "name": "stdout",
     "output_type": "stream",
     "text": [
      "  empno   Ename qualification subject  salary\n",
      "0   101    rama            BE      cs    6000\n",
      "1   102   bhima       Diploma      me    8000\n",
      "2   103  mahesh        M.tech      ec    7000\n",
      "3   104  lokesh           Bsc      at     900\n",
      "4   105  praksh           Msc      ce    4000\n"
     ]
    }
   ],
   "source": [
    "df['salary']=[6000,8000,7000,900,4000]\n",
    "print(df)"
   ]
  },
  {
   "cell_type": "code",
   "execution_count": 16,
   "id": "0b4f18ff",
   "metadata": {},
   "outputs": [
    {
     "name": "stdout",
     "output_type": "stream",
     "text": [
      "  empno   Ename qualification subject  salary  age\n",
      "0   101    rama            BE      cs    6000   25\n",
      "1   102   bhima       Diploma      me    8000   30\n",
      "2   103  mahesh        M.tech      ec    7000   40\n",
      "3   104  lokesh           Bsc      at     900   15\n",
      "4   105  praksh           Msc      ce    4000   20\n"
     ]
    }
   ],
   "source": [
    "df['age']=[25,30,40,15,20]\n",
    "print(df)"
   ]
  },
  {
   "cell_type": "code",
   "execution_count": 17,
   "id": "98af65f3",
   "metadata": {},
   "outputs": [
    {
     "name": "stdout",
     "output_type": "stream",
     "text": [
      "  empno   Ename qualification subject  salary  age\n",
      "0   101    rama            BE      cs    6000   25\n",
      "3   104  lokesh           Bsc      at     900   15\n",
      "4   105  praksh           Msc      ce    4000   20\n"
     ]
    }
   ],
   "source": [
    "young_people=df[df['age']<30]\n",
    "print(young_people)"
   ]
  },
  {
   "cell_type": "code",
   "execution_count": 18,
   "id": "e837ee5a",
   "metadata": {},
   "outputs": [
    {
     "name": "stdout",
     "output_type": "stream",
     "text": [
      "  empno   Ename qualification subject  salary  age\n",
      "3   104  lokesh           Bsc      at     900   15\n",
      "4   105  praksh           Msc      ce    4000   20\n",
      "0   101    rama            BE      cs    6000   25\n",
      "1   102   bhima       Diploma      me    8000   30\n",
      "2   103  mahesh        M.tech      ec    7000   40\n"
     ]
    }
   ],
   "source": [
    "sorted_df=df.sort_values(by='age')\n",
    "print(sorted_df)"
   ]
  },
  {
   "cell_type": "code",
   "execution_count": null,
   "id": "fa08973e",
   "metadata": {},
   "outputs": [],
   "source": []
  }
 ],
 "metadata": {
  "kernelspec": {
   "display_name": "Python 3 (ipykernel)",
   "language": "python",
   "name": "python3"
  },
  "language_info": {
   "codemirror_mode": {
    "name": "ipython",
    "version": 3
   },
   "file_extension": ".py",
   "mimetype": "text/x-python",
   "name": "python",
   "nbconvert_exporter": "python",
   "pygments_lexer": "ipython3",
   "version": "3.11.4"
  }
 },
 "nbformat": 4,
 "nbformat_minor": 5
}
